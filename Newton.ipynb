{
 "cells": [
  {
   "cell_type": "markdown",
   "id": "9289bc5d-e633-4514-bda3-c10e768e4bfa",
   "metadata": {},
   "source": [
    "# MATH 137 Calculus 1\n",
    "\n",
    "## Know your students\n",
    "* First year incoming students\n",
    "* Approximately 100 students in the lecture hall\n",
    "* All students have access to Syzygy\n",
    "* No prior coding experience\n",
    "\n",
    "## Big Idea and Essential Questions\n",
    "* Most equations are impossible to solve but we can always approximate using Newton's Method.\n",
    "* There is a formula for finding the roots of 2nd, 3rd, and 5th degree polynomials. How about 5th degree?\n",
    "\n",
    "## Learning Goals\n",
    "* Approximate solutions for $f(x)=0$ using Newton's Method\n",
    "* Define a Python function which representes a mathematical function\n",
    "* Assign values to variables\n",
    "* Construct mathematical expressions with variables\n",
    "* Decompose a mathematical expression into several simpler expressions using variables\n"
   ]
  },
  {
   "cell_type": "markdown",
   "id": "42a4a0c3-8e49-486e-9fe6-6138bb9f2074",
   "metadata": {},
   "source": [
    "## Instructions\n",
    "Approximate all solutions to the equation $x^5-x-1=0$.\n",
    "Recall the Newton's Formula\n",
    "$$x_{n+1}=x_n-\\dfrac{f(x_n)}{f'(x_n)}$$"
   ]
  },
  {
   "cell_type": "code",
   "execution_count": 2,
   "id": "129bf268-4308-45dc-9522-b504a5bad815",
   "metadata": {},
   "outputs": [
    {
     "name": "stdout",
     "output_type": "stream",
     "text": [
      "1.25\n"
     ]
    }
   ],
   "source": [
    "f= lambda x: x**5-x-1\n",
    "df= lambda x:5*x**4-1\n",
    "x0=1\n",
    "x1=x0-f(x0)/df(x0)\n",
    "print(x1)"
   ]
  },
  {
   "cell_type": "code",
   "execution_count": 3,
   "id": "611ac0df-dd4e-42a1-9a5d-130f10278e3c",
   "metadata": {},
   "outputs": [
    {
     "name": "stdout",
     "output_type": "stream",
     "text": [
      "1.1784593935169048\n"
     ]
    }
   ],
   "source": [
    "x2=x1-f(x1)/df(x1)\n",
    "print(x2)"
   ]
  },
  {
   "cell_type": "code",
   "execution_count": null,
   "id": "2100ac56-1c89-42d5-9bc9-79f3d16f6a81",
   "metadata": {},
   "outputs": [],
   "source": []
  }
 ],
 "metadata": {
  "kernelspec": {
   "display_name": "Python 3 (ipykernel)",
   "language": "python",
   "name": "python3"
  },
  "language_info": {
   "codemirror_mode": {
    "name": "ipython",
    "version": 3
   },
   "file_extension": ".py",
   "mimetype": "text/x-python",
   "name": "python",
   "nbconvert_exporter": "python",
   "pygments_lexer": "ipython3",
   "version": "3.12.8"
  }
 },
 "nbformat": 4,
 "nbformat_minor": 5
}
